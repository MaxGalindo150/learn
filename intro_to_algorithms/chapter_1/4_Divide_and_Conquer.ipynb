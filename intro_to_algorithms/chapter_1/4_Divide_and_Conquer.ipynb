{
 "cells": [
  {
   "cell_type": "markdown",
   "metadata": {},
   "source": [
    "# Divide And Conquer\n",
    "\n",
    "In Section 2 of this chapter, we implemented the `merge sort` algorithm, which uses the *divide-and-conquer* approach. Additionally, we discussed the main concepts of the *divide-and-conquer* strategy. Now, let's dive into the mathematical tools used to solve problems with this strategy."
   ]
  },
  {
   "cell_type": "markdown",
   "metadata": {},
   "source": [
    "#### Recurrences\n",
    "A **recurrence** is an equation that describes a function in terms of its value on toher, typically smaller, arguments."
   ]
  }
 ],
 "metadata": {
  "language_info": {
   "name": "python"
  }
 },
 "nbformat": 4,
 "nbformat_minor": 2
}
