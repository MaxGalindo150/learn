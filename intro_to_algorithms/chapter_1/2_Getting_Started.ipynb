{
 "cells": [
  {
   "cell_type": "markdown",
   "metadata": {},
   "source": [
    "# 2 Getting Started\n",
    "\n",
    "We begin by examining the inserion sort alghorithm to solve the sorting problem.\n",
    "\n",
    "## 2.1 Insertion sort\n",
    "\n",
    "**Input:** A sequence of $n$ number $\\langle a_1, a_2,..., a_n \\rangle$\n",
    "\n",
    "**Output:** A permutation (reordering) $\\langle a_1, a_2,..., a_n \\rangle$ of the input sequence such that $a'_1 \\leq a'_2 \\leq ... \\leq a'_n$\n",
    "\n",
    "The **insertion sort** algorithm is very efficient for sorting a small number of elements. Insertion sort works the way many people sort a hand of playing cards. We start with an empty left hand and the cards face down on the table. We then remove one card at a time from the table and insert it into the correct postion in the left hand. To find the correct position for a card, we compare it with each of the cards already in the hand, from right to left. \n",
    "\n",
    "I present my code for insertion sort as a procedure called `insertion_sort`, which takes as a parameter an array `A[0:n]` containing a sequence of length `n` that is to be sorted. The algorith sorts the input numbers **in place**: it rearranges the numbers within the array `A`, with at most a constant number of them stored outside the array at any time. The input array `A` contains the sorted output sequence when the `insertion_sort` procedure is finished."
   ]
  },
  {
   "cell_type": "code",
   "execution_count": 1,
   "metadata": {},
   "outputs": [
    {
     "name": "stdout",
     "output_type": "stream",
     "text": [
      "Array messy: [5, 2, 4, 6, 1, 3]\n",
      "Sorted array: [1, 2, 3, 4, 5, 6]\n"
     ]
    }
   ],
   "source": [
    "def insertion_sort(A: list[int]) -> list[int]:\n",
    "    for j in range(1, len(A)):\n",
    "        key = A[j]\n",
    "        #insert A[j] into the sorted sequence A[0:j-1]\n",
    "        i = j - 1\n",
    "        while i >= 0 and A[i] > key:\n",
    "            A[i + 1] = A[i]\n",
    "            i -= 1\n",
    "        A[i + 1] = key\n",
    "    return A\n",
    "\n",
    "# Example\n",
    "A = [5, 2, 4, 6, 1, 3]\n",
    "print(f'Array messy: {A}')\n",
    "A = insertion_sort(A)\n",
    "print(f'Sorted array: {A}' )"
   ]
  },
  {
   "cell_type": "markdown",
   "metadata": {},
   "source": [
    "## 2.2 Analyzing Algorithms\n",
    "\n",
    "In the *Insertion Sort* algorithm we have a `for` loop. Therefore, for each $j = 1, 2,\\dots,n$, where $n =$ `len(A)`, we let $t_{j}$ denote the number of times the `while` loop test is executed for that value of $j$. When a `for` or `while` loop exits in the usar way, the test is executed one time more than the loop body. We assume that comments are not executable statements, and so they take no time."
   ]
  },
  {
   "cell_type": "markdown",
   "metadata": {},
   "source": []
  },
  {
   "cell_type": "code",
   "execution_count": 2,
   "metadata": {},
   "outputs": [],
   "source": [
    "def insertion_sort(A: list[int]) -> list[int]: # ------------> cost | times\n",
    "    for j in range(1, len(A)): # ---------------------------->  c1  |   n\n",
    "        key = A[j] # ---------------------------------------->  c2  | n - 1\n",
    "        #insert A[j] into the sorted sequence A[1:j-1] # ---->   0  | n - 1\n",
    "        i = j - 1 # ----------------------------------------->  c4  | n - 1\n",
    "        while i >= 0 and A[i] > key: # ---------------------->  c5  | Σ j=1 to n t_j\n",
    "            A[i + 1] = A[i] # ------------------------------->  c6  | Σ j=1 to n (t_j - 1)\n",
    "            i -= 1 # ---------------------------------------->  c7  | Σ j=1 to n (t_j - 1)\n",
    "        A[i + 1] = key # ----------------------------------->   c8  | n - 1\n",
    "    return A # --------------------------------------------->   c9  | 1"
   ]
  },
  {
   "cell_type": "markdown",
   "metadata": {},
   "source": [
    "The running time of the algorithm is the sum of the running times for each statment executed. To compute $T(n)$ the running time of *Insertion Sort* on an input of $n$ values, we sum the products of the *cost* and *times* columns, obtaining\n",
    "\n",
    "$$\n",
    "T(n) = c_{1}n + c_{2}(n-1) + c_{4}(n-1) + c_{5}\\sum_{j=1}^{n}(t_{j}) + c_{6}\\sum_{j=1}^{n}(t_{j}-1) + c_{7}\\sum_{j=1}^{n}(t_{j}-1) + c_{8}(n-1) + c_{9} \n",
    "$$\n",
    "\n",
    "The best case occurs when the array $A$ is already sorted, therefore $A[i] < key$, therefore $t_j = 1$ and:\n",
    "\n",
    "$$\n",
    "T(n) = c{1}n + c_{2}(n-1) + c_{4}(n-1) + c_{5}(n-1) + c_{8}(n-1) + c_{9} \\\\\n",
    "= (c_{1} + c_{2} + c_{4} + c_{5} + c_{8})n - (c_{2} + c_{4} + c_{5} + c_{8} - c_{9}) \\\\\n",
    "= an + b\n",
    "$$\n",
    "\n",
    "which is a linear function of $n$.\n",
    "\n",
    "The worst case is when the array $A$ is in reverse oreder. We must compare each element $A[j]$ with each element in the entire sorted subarray $A[1 \\dots j-1]$ and do $t_j = j$ for $j=1,\\dots,n$. Then:\n",
    "\n",
    "$$\n",
    "T(n) =  c_{1}n + c_{2}(n-1) + c_{4}(n-1) + c_{5}\\sum_{j=1}^{n}j + c_{6}\\sum_{j=1}^{n}(j-1) + c_{7}\\sum_{j=1}^{n}(j-1) + c_{8}(n-1) + c_{9}\n",
    "$$\n",
    "$$\n",
    "=  c_{1}n + c_{2}(n-1) + c_{4}(n-1) + c_{5}\\left(\\frac{n(n-1)}{2}-1\\right) + c_{6}\\left(\\frac{n(n-1)}{2}\\right) + c_{7}\\left(\\frac{n(n-1)}{2}\\right) + c_{8}(n-1) + c_{9}\n",
    "$$\n",
    "$$\n",
    "= \\left(\\frac{c_5}{2} + \\frac{c_6}{2} + \\frac{c_7}{2}\\right)n^2 + (c_1 + c_2 + c_4 + \\frac{c_5}{2} - \\frac{c_6}{2} - \\frac{c_7}{2} + c_8)n - (c_2 + c_4 + c_5 + c_8)\n",
    "$$\n",
    "$$\n",
    "T(n) = an^2 + bn + c\n",
    "$$\n",
    "\n",
    "In this case we have a quadratic function of $n$."
   ]
  },
  {
   "cell_type": "markdown",
   "metadata": {},
   "source": [
    "## 2.3 Designing Algorithms\n",
    "\n",
    "There are many algorithm design techniques. For insertion sort, we used an **incremental** approach: having sorted the subarray $A[0:j-1]$, we inserted the single element $A[j]$ into its proper place, yielding the sorted subarray $A[0:j]$. Now, we are going to learn the **divide-and-conquer** approach. This technique allows us to design a sorting algorithm whose worst-case running time is much less than that of insertion sort.\n",
    "\n",
    "### 2.3.1 The Divide-and-Conquer Approach\n",
    "\n",
    "Many useful algorithms are **recursive** in structure: to solve a given problem, they call themselves recursively one or more times to deal with closely related subproblems. These algorithms typically follow a **divide-and-conquer** approach: they break the problem into several subproblems recursively, and then combine these solutions to create a solution to the original problem. The divide-and-conquer paradigm involves three steps at each level of the recursion:\n",
    "\n",
    "1. **Divide** the problem into a number of subproblems that are smaller instances of the same problem.\n",
    "2. **Conquer** the subproblems by solving them recursively. If the subproblem sizes are small enough, however, just solve the subproblems in a straightforward manner.\n",
    "3. **Combine** the solutions to the subproblems into the solution for the original problem.\n",
    "\n",
    "The **merge sort** algorithm closely follows the divide-and-conquer paradigm. Intuitively, it operates as follows:\n",
    "\n",
    "1. **Divide:** Divide the $n$-element sequence to be sorted into two subsequences of $n/2$ elements each.\n",
    "2. **Conquer:** Sort the two subsequences recursively using merge sort.\n",
    "3. **Combine:** Merge the two sorted subsequences to produce the sorted answer.\n",
    "\n",
    "The key operation of the merge sort algorithm is the merging of two sorted squences in the \"combine' step. We merge by calling an auxiliary procedure $MERGE(A, p, q, r)$, where $A$ is an array and $p$, $q$, and $r$ are indices into the array such that $p \\leq q < r$. The procedure assumes that the subarrays $A[p \\dots q]$ and $A[q+1 \\dots r]$ are in sorted order. It **merges** them to form a single sorted subarray that replaces the current subarray $A[p \\dots r]$.\n",
    "\n",
    "The `MERGE` procedure is presented below."
   ]
  },
  {
   "cell_type": "code",
   "execution_count": 51,
   "metadata": {},
   "outputs": [],
   "source": [
    "def merge(A: list[int], p: int, q: int, r: int) -> list[int]:\n",
    "    n1 = q - p + 1\n",
    "    n2 = r - q\n",
    "    L = [0] * (n1 + 1)\n",
    "    R = [0] * (n2 + 1)\n",
    "    \n",
    "    for j in range(n1):\n",
    "        L[j] = A[p + j]\n",
    "    for j in range(n2):\n",
    "        R[j] = A[q + j + 1]\n",
    "    L[n1] = float('inf')\n",
    "    R[n2] = float('inf')\n",
    "\n",
    "    i = 0\n",
    "    j = 0\n",
    "    \n",
    "    for k in range(p, r + 1):\n",
    "        if L[i] <= R[j]:\n",
    "            A[k] = L[i]\n",
    "            i += 1\n",
    "        else:\n",
    "            A[k] = R[j]\n",
    "            j += 1\n",
    "\n",
    "    return A"
   ]
  },
  {
   "cell_type": "markdown",
   "metadata": {},
   "source": [
    "Remember, the **merge** method is just for merging two already sorted arrays."
   ]
  },
  {
   "cell_type": "code",
   "execution_count": 52,
   "metadata": {},
   "outputs": [
    {
     "data": {
      "text/plain": [
       "[1, 2, 2, 3, 3, 4, 4, 5]"
      ]
     },
     "execution_count": 52,
     "metadata": {},
     "output_type": "execute_result"
    }
   ],
   "source": [
    "A = [1,2,3,4,2,3,4,5] # L = [1,2,3,4], R = [2,3,4,5]\n",
    "p = 0\n",
    "q = 3\n",
    "r = len(A) - 1\n",
    "A = merge(A, p=p, q=q, r=r)\n",
    "A"
   ]
  },
  {
   "cell_type": "markdown",
   "metadata": {},
   "source": [
    "We can now use the `MERGE` procedure as a subroutine in the merge sort algorithm. The procedure `MERGE-SORT(A, p, r)` sorts the elements in the subarray `A[p..r]`. If $p \\geq r$, the subarray has at most one element and is therefore already sorted. Otherwise, the divide step simply computes an index $q$ that partitions $A[q+1 \\dots r]$ into two subarrays: $A[p \\dots q]$, containing $[n/2]$ elements, and $A[q+1 \\dots r]$ containing $[n/2]$ elemets."
   ]
  },
  {
   "cell_type": "code",
   "execution_count": 53,
   "metadata": {},
   "outputs": [],
   "source": [
    "def merge_sort(A: list[int], p: int, r: int):\n",
    "    if p < r:\n",
    "        q = (p + r) // 2\n",
    "        merge_sort(A, p, q)\n",
    "        merge_sort(A, q + 1, r)\n",
    "        merge(A, p, q, r)\n",
    "        return A"
   ]
  },
  {
   "cell_type": "code",
   "execution_count": 54,
   "metadata": {},
   "outputs": [
    {
     "data": {
      "text/plain": [
       "[1, 2, 3, 4, 5, 6, 7, 8, 9, 10]"
      ]
     },
     "execution_count": 54,
     "metadata": {},
     "output_type": "execute_result"
    }
   ],
   "source": [
    "A = [10,9,8,7,6,5,4,3,2,1]\n",
    "A = merge_sort(A, 0, len(A)-1)\n",
    "A"
   ]
  },
  {
   "cell_type": "markdown",
   "metadata": {},
   "source": [
    "# 4 Divide and Conquer"
   ]
  },
  {
   "cell_type": "code",
   "execution_count": null,
   "metadata": {},
   "outputs": [],
   "source": []
  },
  {
   "cell_type": "code",
   "execution_count": null,
   "metadata": {},
   "outputs": [],
   "source": []
  }
 ],
 "metadata": {
  "kernelspec": {
   "display_name": "Python 3",
   "language": "python",
   "name": "python3"
  },
  "language_info": {
   "codemirror_mode": {
    "name": "ipython",
    "version": 3
   },
   "file_extension": ".py",
   "mimetype": "text/x-python",
   "name": "python",
   "nbconvert_exporter": "python",
   "pygments_lexer": "ipython3",
   "version": "3.12.4"
  }
 },
 "nbformat": 4,
 "nbformat_minor": 2
}
